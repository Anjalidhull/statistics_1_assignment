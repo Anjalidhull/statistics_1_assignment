{
 "cells": [
  {
   "cell_type": "code",
   "execution_count": null,
   "id": "2d2be3af-7a88-42b0-88d0-aea9655bd89b",
   "metadata": {},
   "outputs": [],
   "source": [
    "Q1. What is Statistics?\n",
    "Answer:\n",
    "    statistics is the study of data collection,analysis and organizing.\n",
    "    it is a method of gathring and summarizing results. it is a mathematical branch use for data collection,visulization and organizing of data .\n",
    "    Statistics has a wide range of applications in many disciplines, including economics, psychology, geology, weather forecasts, and so on.\n",
    "    "
   ]
  },
  {
   "cell_type": "code",
   "execution_count": null,
   "id": "af666271-caed-4b76-8af8-2e350972ce6a",
   "metadata": {},
   "outputs": [],
   "source": [
    "Q2. Define the different types of statistics and give an example of when each type might be used.\n",
    " \n",
    "    There are two types of statistics :\n",
    "        a) Descriptive Statistics:\n",
    "            The data is summarized and interpreted and explained in this type of statistics. The data is summarized from a\n",
    "            population sample using factors such as mean and standard deviation. It is a way of organizing, presenting, and\n",
    "            explaining a set of data using graphs and summary measures. To summarise data and show it in tables or graphs, typical\n",
    "            methods include histograms, pie charts, bars, and scatter plots. Simply put, descriptive statistics are that. Beyond the \n",
    "            data they gather, they don’t need to be normalized. \n",
    "        b)  Inferential Statistics:\n",
    "             The part of statistics concern with the drawing of conclusion from data.\n"
   ]
  },
  {
   "cell_type": "code",
   "execution_count": null,
   "id": "6c0543c4-00a5-4f77-9f9a-e2c500740d89",
   "metadata": {},
   "outputs": [],
   "source": [
    "Q3. What are the different types of data and how do they differ from each other? Provide an example of\n",
    "each type of data.\n",
    "  \n",
    "    There are two types of data qualitative and quantitative data:\n",
    "        Qualitative Data: This data is descriptive. For example – She is beautiful, He is tall, etc.\n",
    "        Quantitative Data: This is numerical information. For example- A horse has four legs.\n"
   ]
  },
  {
   "cell_type": "code",
   "execution_count": null,
   "id": "638e8a1c-b875-432c-9151-6886f6d84c9f",
   "metadata": {},
   "outputs": [],
   "source": [
    "Q4. Categorise the following datasets with respect to quantitative and qualitative data types:\n",
    "(i) Grading in exam: A+, A, B+, B, C+, C, D, E\n",
    "(ii) Colour of mangoes: yellow, green, orange, red\n",
    "(iii) Height data of a class: [178.9, 179, 179.5, 176, 177.2, 178.3, 175.8,...]\n",
    "(iv) Number of mangoes exported by a farm: [500, 600, 478, 672, ...]"
   ]
  },
  {
   "cell_type": "code",
   "execution_count": null,
   "id": "d4fa7147-90c3-420e-a286-cbf966186080",
   "metadata": {},
   "outputs": [],
   "source": [
    "i) this is qualitative data.\n",
    "ii)this is qualitative data.\n",
    "iii) this is quantitative data.\n",
    "iv)this is quantitative data."
   ]
  },
  {
   "cell_type": "code",
   "execution_count": null,
   "id": "affab720-a850-4f37-b610-06a8788dac79",
   "metadata": {},
   "outputs": [],
   "source": [
    "Q5. Explain the concept of levels of measurement and give an example of a variable for each level."
   ]
  },
  {
   "cell_type": "code",
   "execution_count": null,
   "id": "11e1d5d8-9458-43c4-abe3-a786420e9981",
   "metadata": {},
   "outputs": [],
   "source": [
    "Levels of measurement, also called scales of measurement, tell you how precisely variables are recorded.\n",
    "In scientific research, a variable is anything that can take on different values across your data set (e.g., height or test scores)\n",
    "\n",
    "\n",
    "a)Nominal scale: A scale used to label variables that have no quantitative values.\n",
    "example: gender = Male, Female\n",
    "         fruits= apple,mango,orange,grapes,..etc\n",
    "b) Ordinal scale: A scale used to label variables that have a natural order, but no quantifiable difference between values. \n",
    "example: Workplace status: Entry Analyst, Analyst I, Analyst II, Lead Analyst\n",
    "c)Interval scale: A scale used to label variables that have a natural order and a quantifiable difference between values, but no “true zero” value.\n",
    "example:Credit Scores: Measured from 300 to 850\n",
    "d)Ratio scale: A scale used to label variables that have a natural order, a quantifiable difference between values, and a “true zero” value.\n",
    "example:Height: Can be measured in centimeters, inches, feet, etc. and cannot have a value below zero.\n",
    "\n"
   ]
  },
  {
   "cell_type": "code",
   "execution_count": null,
   "id": "19fb4f7a-0857-420c-a078-41102f6b62e7",
   "metadata": {},
   "outputs": [],
   "source": [
    "Q6.Why is it important to understand the level of measurement when analyzing data? Provide an\n",
    "example to illustrate your answer."
   ]
  },
  {
   "cell_type": "code",
   "execution_count": null,
   "id": "f5b2e149-3ae6-40d3-b35c-d7187b8ea6b9",
   "metadata": {},
   "outputs": [],
   "source": [
    "Levels of measurement are important because they indicate the extent to which statisticians, marketing analysts\n",
    "and financial analysts can use existing data. For instance, if you classify your data at the ordinal level of measurement, \n",
    "you know that you can evaluate how items compare to each other based on a specific hierarchy."
   ]
  },
  {
   "cell_type": "code",
   "execution_count": null,
   "id": "da5b81ca-94c4-46a9-ad42-0080cdb2defd",
   "metadata": {},
   "outputs": [],
   "source": [
    "Q7. How nominal data type is different from ordinal data type."
   ]
  },
  {
   "cell_type": "code",
   "execution_count": null,
   "id": "3366d04e-d707-4846-b81f-f96b5afb291e",
   "metadata": {},
   "outputs": [],
   "source": [
    "1)Nominal data is a group of non-parametric variables, while Ordinal data is a group of non-parametric ordered variables.\n",
    "2)There are four types of tests carried out on nominal data, namely; the McNemar test, Cochran Q’s test, Fisher’s Exact test, \n",
    "and Chi-Square test. The ordinal data tests are also four, namely; Wilcoxon signed-rank test, Friedman 2-way ANOVA, Wilcoxon \n",
    "rank-sum test, and Kruskal-Wallis 1-way test.\n",
    "3)Nominal data analysis is done by grouping input variables into categories and calculating the percentage or\n",
    "mode of the distribution, while ordinal data is analyzed by computing the mode, median, and other positional measures \n",
    "like quartiles, percentiles, etc.\n",
    "4)Nominal data are categorical in nature, while ordinal data are in between categorical and quantitative.\n",
    "5)Examples of nominal data include the country, gender, race, hair color, etc. of a group of people, while\n",
    "that of ordinal data includes having a position in class as “First” or “Second”. "
   ]
  },
  {
   "cell_type": "code",
   "execution_count": null,
   "id": "61e4cc0b-88ad-4892-9306-1af89fe1016a",
   "metadata": {},
   "outputs": [],
   "source": [
    "Q8. Which type of plot can be used to display data in terms of range?"
   ]
  },
  {
   "cell_type": "code",
   "execution_count": null,
   "id": "ea0e1bc0-23a3-4918-a75a-5ca9368aabb6",
   "metadata": {},
   "outputs": [],
   "source": [
    "A box-whisker plot can be use display data in twrms of range.\n"
   ]
  },
  {
   "cell_type": "code",
   "execution_count": null,
   "id": "b48ff047-1ec3-45f7-b3d9-c7ccdc5fe92c",
   "metadata": {},
   "outputs": [],
   "source": [
    "Q9. Describe the difference between descriptive and inferential statistics. Give an example of each\n",
    "type of statistics and explain how they are used."
   ]
  },
  {
   "cell_type": "markdown",
   "id": "9c4a7d6c-06ce-4a59-af23-ef507b6352fd",
   "metadata": {},
   "source": [
    "Purpose"
   ]
  },
  {
   "cell_type": "code",
   "execution_count": null,
   "id": "3f294a80-1d54-4550-bdfc-be1200ad4137",
   "metadata": {},
   "outputs": [],
   "source": [
    "des:Describe and summarize data\n",
    "\n",
    "inf:Make inferences and draw conclusions about a population based on sample data"
   ]
  },
  {
   "cell_type": "markdown",
   "id": "2fa795bd-6c34-408a-9fab-a4fb4cb0d4d8",
   "metadata": {},
   "source": [
    "Data Analysis"
   ]
  },
  {
   "cell_type": "code",
   "execution_count": null,
   "id": "3cd8b92d-aa07-406c-a6df-8cebd3b6e85d",
   "metadata": {},
   "outputs": [],
   "source": [
    "des:Analyzes and interprets the characteristics of a dataset\n",
    "\n",
    "inf:Uses sample data to make generalizations or predictions about a larger population"
   ]
  },
  {
   "cell_type": "markdown",
   "id": "fcc20b34-fdea-4015-9f89-a718821cbe62",
   "metadata": {},
   "source": [
    "Measurements"
   ]
  },
  {
   "cell_type": "code",
   "execution_count": null,
   "id": "5d494c67-732b-4153-b16e-aca3b23ee1af",
   "metadata": {},
   "outputs": [],
   "source": [
    "\n",
    "\n",
    "des:Provides measures of central tendency and dispersion\n",
    "\n",
    "inf:Estimates parameters, tests hypotheses, and determines the level of confidence or significance in the results"
   ]
  },
  {
   "cell_type": "markdown",
   "id": "65248973-3505-4af9-8993-64cedb9c80f7",
   "metadata": {},
   "source": [
    "Examples\n"
   ]
  },
  {
   "cell_type": "code",
   "execution_count": null,
   "id": "d2aa9470-5e16-46bb-9f18-2e6249bafbb3",
   "metadata": {},
   "outputs": [],
   "source": [
    "\n",
    "des:Mean, median, mode, standard deviation, range, frequency tables\n",
    "\n",
    "inf:Hypothesis testing, confidence intervals, regression analysis, ANOVA (analysis of variance), chi-square tests, t-tests, etc."
   ]
  },
  {
   "cell_type": "code",
   "execution_count": null,
   "id": "890125b3-0ea1-4de5-a541-a84448b53ed6",
   "metadata": {},
   "outputs": [],
   "source": [
    "Q10. What are some common measures of central tendency and variability used in statistics? Explain\n",
    "how each measure can be used to describe a dataset."
   ]
  },
  {
   "cell_type": "code",
   "execution_count": null,
   "id": "96541250-aa39-462c-9e2f-903ab7faa608",
   "metadata": {},
   "outputs": [],
   "source": [
    "Some of the most commonly used measures of central tendency are:\n",
    "\n",
    "Mean\n",
    "Median\n",
    "Mode\n"
   ]
  },
  {
   "cell_type": "code",
   "execution_count": null,
   "id": "2ed81363-beba-4d04-9440-a417ce6254df",
   "metadata": {},
   "outputs": [],
   "source": [
    "Mean\n",
    "Mean in general terms is used for the arithmetic mean of the data.\n",
    "Arithmetic mean (\\bar{x}   ) is defined as the sum of the individual observations (xi) divided by the total number of observations N"
   ]
  },
  {
   "cell_type": "code",
   "execution_count": null,
   "id": "5fd6de7f-40e3-4638-b367-7d9ef3eb283f",
   "metadata": {},
   "outputs": [],
   "source": [
    "Median:\n",
    "    The Median of any distribution is that value that divides the distribution into two equal parts such that the number\n",
    "    of observations above it is equal to the number of observations below it. Thus, the median is called the central value\n",
    "    of any given data either grouped or ungrouped.\n",
    "Case 1: N is Odd\n",
    "\n",
    "Median = Value of observation at [(n + 1) ÷ 2]th Position\n",
    "\n",
    "Case 2: N is Even\n",
    "\n",
    "Median = Arithmetic mean of Values of observations at (n ÷ 2)th and [(n ÷ 2) + 1]th Position\n",
    "\n",
    "\n",
    "Mode\n",
    "The Mode is the value of that observation which has a maximum frequency corresponding to it. In other, that\n",
    "observation of the data occurs the maximum number of times in a dataset.\n"
   ]
  }
 ],
 "metadata": {
  "kernelspec": {
   "display_name": "Python 3 (ipykernel)",
   "language": "python",
   "name": "python3"
  },
  "language_info": {
   "codemirror_mode": {
    "name": "ipython",
    "version": 3
   },
   "file_extension": ".py",
   "mimetype": "text/x-python",
   "name": "python",
   "nbconvert_exporter": "python",
   "pygments_lexer": "ipython3",
   "version": "3.10.8"
  }
 },
 "nbformat": 4,
 "nbformat_minor": 5
}
